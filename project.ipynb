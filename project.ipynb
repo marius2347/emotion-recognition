{
  "nbformat": 4,
  "nbformat_minor": 0,
  "metadata": {
    "colab": {
      "provenance": []
    },
    "kernelspec": {
      "name": "python3",
      "display_name": "Python 3"
    },
    "language_info": {
      "name": "python"
    }
  },
  "cells": [
    {
      "cell_type": "markdown",
      "source": [
        "# Emotion Recognition Project"
      ],
      "metadata": {
        "id": "2E5AdWAPbC3U"
      }
    },
    {
      "cell_type": "code",
      "source": [
        "# importing from my drive to git\n",
        "from google.colab import drive\n",
        "drive.mount('/content/drive', force_remount=True)\n",
        "\n",
        "%cd /content/drive/MyDrive\n",
        "!git clone https://github.com/marius2347/emotion-recognition.git\n"
      ],
      "metadata": {
        "id": "Z_hlKwKpbFtl",
        "colab": {
          "base_uri": "https://localhost:8080/"
        },
        "outputId": "bf58d9f0-7d06-4d65-db0c-2a4c9c8216fb"
      },
      "execution_count": 7,
      "outputs": [
        {
          "output_type": "stream",
          "name": "stdout",
          "text": [
            "Mounted at /content/drive\n",
            "/content/drive/MyDrive\n",
            "Cloning into 'emotion-recognition'...\n",
            "remote: Enumerating objects: 34081, done.\u001b[K\n",
            "remote: Total 34081 (delta 0), reused 0 (delta 0), pack-reused 34081 (from 3)\u001b[K\n",
            "Receiving objects: 100% (34081/34081), 57.65 MiB | 16.07 MiB/s, done.\n",
            "Resolving deltas: 100% (4/4), done.\n",
            "Updating files: 100% (35889/35889), done.\n"
          ]
        }
      ]
    },
    {
      "cell_type": "code",
      "source": [
        "print(\"hello\")"
      ],
      "metadata": {
        "id": "voK7V2CAxkdQ",
        "outputId": "ce1973e4-8c7d-4f48-8973-5ac9167f35cc",
        "colab": {
          "base_uri": "https://localhost:8080/"
        }
      },
      "execution_count": 8,
      "outputs": [
        {
          "output_type": "stream",
          "name": "stdout",
          "text": [
            "hello\n"
          ]
        }
      ]
    },
    {
      "cell_type": "code",
      "source": [],
      "metadata": {
        "id": "xyYmr7xDxlf9"
      },
      "execution_count": null,
      "outputs": []
    }
  ]
}